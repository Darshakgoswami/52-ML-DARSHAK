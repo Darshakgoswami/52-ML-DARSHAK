{
 "cells": [
  {
   "cell_type": "code",
   "execution_count": null,
   "id": "e2fcb54d",
   "metadata": {},
   "outputs": [],
   "source": [
    "Linear regression model from scratch"
   ]
  },
  {
   "cell_type": "code",
   "execution_count": 1,
   "id": "48124c4a",
   "metadata": {},
   "outputs": [],
   "source": [
    "import numpy as np\n",
    "import torch"
   ]
  },
  {
   "cell_type": "code",
   "execution_count": 2,
   "id": "8821e43a",
   "metadata": {},
   "outputs": [],
   "source": [
    "inputs = np.array([[73, 67, 43],\n",
    "[91, 88, 64],\n",
    "[87, 134, 58],\n",
    "[102, 43, 37],\n",
    "[69, 96, 70]], dtype='float32')"
   ]
  },
  {
   "cell_type": "code",
   "execution_count": 3,
   "id": "575de606",
   "metadata": {},
   "outputs": [],
   "source": [
    "targets = np.array([[56],\n",
    "[81],\n",
    "[119],\n",
    "[22],\n",
    "[103]], dtype='float32')"
   ]
  },
  {
   "cell_type": "code",
   "execution_count": 4,
   "id": "9354f2b2",
   "metadata": {},
   "outputs": [],
   "source": [
    "inputs = torch.from_numpy(inputs)\n",
    "targets = torch.from_numpy(targets)"
   ]
  },
  {
   "cell_type": "code",
   "execution_count": 5,
   "id": "9eb31ef3",
   "metadata": {},
   "outputs": [],
   "source": [
    "weight = torch.randn(2, 3, requires_grad=True)\n",
    "bias = torch.randn(2, requires_grad=True)"
   ]
  },
  {
   "cell_type": "code",
   "execution_count": 6,
   "id": "1c224e73",
   "metadata": {},
   "outputs": [
    {
     "data": {
      "text/plain": [
       "tensor([[ 10.3572, -21.5407],\n",
       "        [ 22.1317, -16.7742],\n",
       "        [  8.3826, -47.5828],\n",
       "        [  1.6569, -30.0957],\n",
       "        [ 32.1263,  -2.8594]], grad_fn=<AddBackward0>)"
      ]
     },
     "execution_count": 6,
     "metadata": {},
     "output_type": "execute_result"
    }
   ],
   "source": [
    "inputs @ weight.t() + bias"
   ]
  },
  {
   "cell_type": "code",
   "execution_count": 7,
   "id": "4d5cb13b",
   "metadata": {},
   "outputs": [],
   "source": [
    "def model(inputs):\n",
    "    return inputs @ weight.t() + bias"
   ]
  },
  {
   "cell_type": "code",
   "execution_count": 8,
   "id": "d3a52bdf",
   "metadata": {},
   "outputs": [
    {
     "name": "stdout",
     "output_type": "stream",
     "text": [
      "tensor([[ 10.3572, -21.5407],\n",
      "        [ 22.1317, -16.7742],\n",
      "        [  8.3826, -47.5828],\n",
      "        [  1.6569, -30.0957],\n",
      "        [ 32.1263,  -2.8594]], grad_fn=<AddBackward0>)\n"
     ]
    }
   ],
   "source": [
    "prediction = model(inputs)\n",
    "print(prediction)"
   ]
  },
  {
   "cell_type": "code",
   "execution_count": null,
   "id": "9798137f",
   "metadata": {},
   "outputs": [],
   "source": [
    "Loss function"
   ]
  },
  {
   "cell_type": "code",
   "execution_count": 10,
   "id": "4de7e080",
   "metadata": {},
   "outputs": [
    {
     "data": {
      "text/plain": [
       "tensor(8046.4243, grad_fn=<DivBackward0>)"
      ]
     },
     "execution_count": 10,
     "metadata": {},
     "output_type": "execute_result"
    }
   ],
   "source": [
    "diff0 = prediction - targets\n",
    "torch.sum(diff0 * diff0) / diff0.numel()"
   ]
  },
  {
   "cell_type": "code",
   "execution_count": 11,
   "id": "4d468616",
   "metadata": {},
   "outputs": [],
   "source": [
    "def mse(t1, t2):\n",
    "    diff = t1 - t2\n",
    "    return torch.sum(diff * diff) / diff.numel()"
   ]
  },
  {
   "cell_type": "code",
   "execution_count": 12,
   "id": "bfa829a1",
   "metadata": {},
   "outputs": [
    {
     "name": "stdout",
     "output_type": "stream",
     "text": [
      "tensor(8046.4243, grad_fn=<DivBackward0>)\n"
     ]
    }
   ],
   "source": [
    "loss = mse(prediction, targets)\n",
    "print(loss)"
   ]
  },
  {
   "cell_type": "code",
   "execution_count": null,
   "id": "273e2cce",
   "metadata": {},
   "outputs": [],
   "source": [
    "Compute gradients"
   ]
  },
  {
   "cell_type": "code",
   "execution_count": 13,
   "id": "69c279a2",
   "metadata": {},
   "outputs": [
    {
     "name": "stdout",
     "output_type": "stream",
     "text": [
      "tensor([[-5055.5884, -6147.9688, -3571.9758],\n",
      "        [-8333.7373, -9704.8145, -5718.2603]])\n",
      "tensor([-61.2691, -99.9706])\n"
     ]
    }
   ],
   "source": [
    "loss.backward()\n",
    "print(weight.grad)\n",
    "print(bias.grad)"
   ]
  },
  {
   "cell_type": "code",
   "execution_count": null,
   "id": "58e3ab53",
   "metadata": {},
   "outputs": [],
   "source": [
    "Train the model using gradient descent"
   ]
  },
  {
   "cell_type": "code",
   "execution_count": 14,
   "id": "87c56b09",
   "metadata": {},
   "outputs": [],
   "source": [
    "with torch.no_grad():\n",
    "    weight -= weight.grad * 1e-5\n",
    "    bias -= bias.grad * 1e-5\n",
    "    weight.grad.zero_()\n",
    "    bias.grad.zero_()"
   ]
  },
  {
   "cell_type": "code",
   "execution_count": 15,
   "id": "748816ea",
   "metadata": {},
   "outputs": [
    {
     "name": "stdout",
     "output_type": "stream",
     "text": [
      "tensor(5565.3467, grad_fn=<DivBackward0>)\n"
     ]
    }
   ],
   "source": [
    "prediction = model(inputs)\n",
    "loss = mse(prediction, targets)\n",
    "print(loss)"
   ]
  },
  {
   "cell_type": "code",
   "execution_count": 16,
   "id": "c2dff5d3",
   "metadata": {},
   "outputs": [],
   "source": [
    "for i in range(100):\n",
    "    prediction = model(inputs)\n",
    "    loss = mse(prediction, targets)\n",
    "    loss.backward()\n",
    "    with torch.no_grad():\n",
    "        weight -= weight.grad * 1e-5\n",
    "        bias -= bias.grad * 1e-5\n",
    "        weight.grad.zero_()\n",
    "        bias.grad.zero_()"
   ]
  },
  {
   "cell_type": "code",
   "execution_count": 17,
   "id": "292ecd6f",
   "metadata": {},
   "outputs": [
    {
     "name": "stdout",
     "output_type": "stream",
     "text": [
      "tensor(161.7822, grad_fn=<DivBackward0>)\n"
     ]
    }
   ],
   "source": [
    "prediction = model(inputs)\n",
    "loss = mse(prediction, targets)\n",
    "print(loss)"
   ]
  },
  {
   "cell_type": "code",
   "execution_count": 18,
   "id": "c33219ae",
   "metadata": {},
   "outputs": [
    {
     "data": {
      "text/plain": [
       "tensor([[ 59.9381,  59.7764],\n",
       "        [ 88.3995,  90.9803],\n",
       "        [100.1521,  94.5423],\n",
       "        [ 37.3892,  36.7497],\n",
       "        [103.2264, 108.0834]], grad_fn=<AddBackward0>)"
      ]
     },
     "execution_count": 18,
     "metadata": {},
     "output_type": "execute_result"
    }
   ],
   "source": [
    "prediction"
   ]
  },
  {
   "cell_type": "code",
   "execution_count": 19,
   "id": "b8192e7e",
   "metadata": {},
   "outputs": [
    {
     "data": {
      "text/plain": [
       "tensor([[ 56.],\n",
       "        [ 81.],\n",
       "        [119.],\n",
       "        [ 22.],\n",
       "        [103.]])"
      ]
     },
     "execution_count": 19,
     "metadata": {},
     "output_type": "execute_result"
    }
   ],
   "source": [
    "targets"
   ]
  }
 ],
 "metadata": {
  "kernelspec": {
   "display_name": "Python 3 (ipykernel)",
   "language": "python",
   "name": "python3"
  },
  "language_info": {
   "codemirror_mode": {
    "name": "ipython",
    "version": 3
   },
   "file_extension": ".py",
   "mimetype": "text/x-python",
   "name": "python",
   "nbconvert_exporter": "python",
   "pygments_lexer": "ipython3",
   "version": "3.9.9"
  }
 },
 "nbformat": 4,
 "nbformat_minor": 5
}
