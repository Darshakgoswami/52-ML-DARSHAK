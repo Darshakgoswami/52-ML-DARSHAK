{
 "cells": [
  {
   "cell_type": "markdown",
   "id": "a5c80aa6-a42f-4913-9413-afc03f08cff1",
   "metadata": {},
   "source": [
    "##### 51<=Rollnumber<=75: \n",
    "#### Task 2: Apply algorithm on breast cancer wisconsin dataset - One Hot Encoding of features: and Train test Division 60%-40%"
   ]
  },
  {
   "cell_type": "markdown",
   "id": "58cc475b-e0a9-407e-90b7-b6890c1da232",
   "metadata": {
    "tags": []
   },
   "source": [
    "### Step 1: Import necessary libraries."
   ]
  },
  {
   "cell_type": "code",
   "execution_count": 1,
   "id": "2692a9d2-c7e1-488d-9c89-3a1dc67e665a",
   "metadata": {},
   "outputs": [],
   "source": [
    "from sklearn import preprocessing\n",
    "from sklearn.model_selection import train_test_split\n",
    "from sklearn.tree import DecisionTreeClassifier\n",
    "from sklearn import datasets\n",
    "import pandas as pd"
   ]
  },
  {
   "cell_type": "markdown",
   "id": "152e5637-4053-4e88-b60e-59003b32c3ce",
   "metadata": {},
   "source": [
    "### Step 2: Prepare dataset."
   ]
  },
  {
   "cell_type": "code",
   "execution_count": 42,
   "id": "8a79cd08-556f-4f24-994d-76563f19f097",
   "metadata": {},
   "outputs": [
    {
     "name": "stdout",
     "output_type": "stream",
     "text": [
      "Target Name:  ['malignant' 'benign']\n",
      "Features Name:  ['mean radius' 'mean texture' 'mean perimeter' 'mean area'\n",
      " 'mean smoothness' 'mean compactness' 'mean concavity'\n",
      " 'mean concave points' 'mean symmetry' 'mean fractal dimension'\n",
      " 'radius error' 'texture error' 'perimeter error' 'area error'\n",
      " 'smoothness error' 'compactness error' 'concavity error'\n",
      " 'concave points error' 'symmetry error' 'fractal dimension error'\n",
      " 'worst radius' 'worst texture' 'worst perimeter' 'worst area'\n",
      " 'worst smoothness' 'worst compactness' 'worst concavity'\n",
      " 'worst concave points' 'worst symmetry' 'worst fractal dimension']\n",
      "Total no of examples:  569\n"
     ]
    },
    {
     "data": {
      "text/plain": [
       "'.. _breast_cancer_dataset:\\n\\nBreast cancer wisconsin (diagnostic) dataset\\n--------------------------------------------\\n\\n**Data Set Characteristics:**\\n\\n    :Number of Instances: 569\\n\\n    :Number of Attributes: 30 numeric, predictive attributes and the class\\n\\n    :Attribute Information:\\n        - radius (mean of distances from center to points on the perimeter)\\n        - texture (standard deviation of gray-scale values)\\n        - perimeter\\n        - area\\n        - smoothness (local variation in radius lengths)\\n        - compactness (perimeter^2 / area - 1.0)\\n        - concavity (severity of concave portions of the contour)\\n        - concave points (number of concave portions of the contour)\\n        - symmetry\\n        - fractal dimension (\"coastline approximation\" - 1)\\n\\n        The mean, standard error, and \"worst\" or largest (mean of the three\\n        worst/largest values) of these features were computed for each image,\\n        resulting in 30 features.  For instance, field 0 is Mean Radius, field\\n        10 is Radius SE, field 20 is Worst Radius.\\n\\n        - class:\\n                - WDBC-Malignant\\n                - WDBC-Benign\\n\\n    :Summary Statistics:\\n\\n    ===================================== ====== ======\\n                                           Min    Max\\n    ===================================== ====== ======\\n    radius (mean):                        6.981  28.11\\n    texture (mean):                       9.71   39.28\\n    perimeter (mean):                     43.79  188.5\\n    area (mean):                          143.5  2501.0\\n    smoothness (mean):                    0.053  0.163\\n    compactness (mean):                   0.019  0.345\\n    concavity (mean):                     0.0    0.427\\n    concave points (mean):                0.0    0.201\\n    symmetry (mean):                      0.106  0.304\\n    fractal dimension (mean):             0.05   0.097\\n    radius (standard error):              0.112  2.873\\n    texture (standard error):             0.36   4.885\\n    perimeter (standard error):           0.757  21.98\\n    area (standard error):                6.802  542.2\\n    smoothness (standard error):          0.002  0.031\\n    compactness (standard error):         0.002  0.135\\n    concavity (standard error):           0.0    0.396\\n    concave points (standard error):      0.0    0.053\\n    symmetry (standard error):            0.008  0.079\\n    fractal dimension (standard error):   0.001  0.03\\n    radius (worst):                       7.93   36.04\\n    texture (worst):                      12.02  49.54\\n    perimeter (worst):                    50.41  251.2\\n    area (worst):                         185.2  4254.0\\n    smoothness (worst):                   0.071  0.223\\n    compactness (worst):                  0.027  1.058\\n    concavity (worst):                    0.0    1.252\\n    concave points (worst):               0.0    0.291\\n    symmetry (worst):                     0.156  0.664\\n    fractal dimension (worst):            0.055  0.208\\n    ===================================== ====== ======\\n\\n    :Missing Attribute Values: None\\n\\n    :Class Distribution: 212 - Malignant, 357 - Benign\\n\\n    :Creator:  Dr. William H. Wolberg, W. Nick Street, Olvi L. Mangasarian\\n\\n    :Donor: Nick Street\\n\\n    :Date: November, 1995\\n\\nThis is a copy of UCI ML Breast Cancer Wisconsin (Diagnostic) datasets.\\nhttps://goo.gl/U2Uwz2\\n\\nFeatures are computed from a digitized image of a fine needle\\naspirate (FNA) of a breast mass.  They describe\\ncharacteristics of the cell nuclei present in the image.\\n\\nSeparating plane described above was obtained using\\nMultisurface Method-Tree (MSM-T) [K. P. Bennett, \"Decision Tree\\nConstruction Via Linear Programming.\" Proceedings of the 4th\\nMidwest Artificial Intelligence and Cognitive Science Society,\\npp. 97-101, 1992], a classification method which uses linear\\nprogramming to construct a decision tree.  Relevant features\\nwere selected using an exhaustive search in the space of 1-4\\nfeatures and 1-3 separating planes.\\n\\nThe actual linear program used to obtain the separating plane\\nin the 3-dimensional space is that described in:\\n[K. P. Bennett and O. L. Mangasarian: \"Robust Linear\\nProgramming Discrimination of Two Linearly Inseparable Sets\",\\nOptimization Methods and Software 1, 1992, 23-34].\\n\\nThis database is also available through the UW CS ftp server:\\n\\nftp ftp.cs.wisc.edu\\ncd math-prog/cpo-dataset/machine-learn/WDBC/\\n\\n.. topic:: References\\n\\n   - W.N. Street, W.H. Wolberg and O.L. Mangasarian. Nuclear feature extraction \\n     for breast tumor diagnosis. IS&T/SPIE 1993 International Symposium on \\n     Electronic Imaging: Science and Technology, volume 1905, pages 861-870,\\n     San Jose, CA, 1993.\\n   - O.L. Mangasarian, W.N. Street and W.H. Wolberg. Breast cancer diagnosis and \\n     prognosis via linear programming. Operations Research, 43(4), pages 570-577, \\n     July-August 1995.\\n   - W.H. Wolberg, W.N. Street, and O.L. Mangasarian. Machine learning techniques\\n     to diagnose breast cancer from fine-needle aspirates. Cancer Letters 77 (1994) \\n     163-171.'"
      ]
     },
     "execution_count": 42,
     "metadata": {},
     "output_type": "execute_result"
    }
   ],
   "source": [
    "dataframe = (datasets.load_breast_cancer())\n",
    "print(\"Target Name: \",dataframe.target_names)\n",
    "print(\"Features Name: \",dataframe.feature_names)\n",
    "features = dataframe.data\n",
    "label = dataframe.target\n",
    "\n",
    "print(\"Total no of examples: \", len(features))\n",
    "\n",
    "dataframe.DESCR"
   ]
  },
  {
   "cell_type": "markdown",
   "id": "7e4305c1-1921-4c80-a87d-cd70c536bbe3",
   "metadata": {},
   "source": [
    "### Step 3: Train ’Decision Tree Classifier’"
   ]
  },
  {
   "cell_type": "code",
   "execution_count": 44,
   "id": "2aa664b0-d081-4a7c-ac88-445e23974003",
   "metadata": {},
   "outputs": [
    {
     "data": {
      "text/plain": [
       "array([[1.142e+01, 2.038e+01, 7.758e+01, ..., 2.575e-01, 6.638e-01,\n",
       "        1.730e-01],\n",
       "       [1.546e+01, 2.395e+01, 1.038e+02, ..., 2.163e-01, 3.013e-01,\n",
       "        1.067e-01],\n",
       "       [1.168e+01, 1.617e+01, 7.549e+01, ..., 9.815e-02, 2.804e-01,\n",
       "        8.024e-02],\n",
       "       ...,\n",
       "       [2.018e+01, 1.954e+01, 1.338e+02, ..., 2.173e-01, 3.032e-01,\n",
       "        8.075e-02],\n",
       "       [1.337e+01, 1.639e+01, 8.610e+01, ..., 8.978e-02, 2.048e-01,\n",
       "        7.628e-02],\n",
       "       [9.567e+00, 1.591e+01, 6.021e+01, ..., 7.222e-02, 2.757e-01,\n",
       "        8.178e-02]])"
      ]
     },
     "execution_count": 44,
     "metadata": {},
     "output_type": "execute_result"
    }
   ],
   "source": [
    "#Create a Classifier\n",
    "model=DecisionTreeClassifier()\n",
    "\n",
    "#split data set into train and test sets\n",
    "data_train, data_test, target_train, target_test = train_test_split(features,\n",
    "label, test_size = 0.40, random_state = 68)\n",
    "\n",
    "# Train the model using the training sets\n",
    "model.fit(data_train, target_train)\n",
    "data_test"
   ]
  },
  {
   "cell_type": "markdown",
   "id": "1dbe6641-e738-4f3d-89b3-fb8802b594f7",
   "metadata": {},
   "source": [
    "### Step 4: Predict Output for new data"
   ]
  },
  {
   "cell_type": "code",
   "execution_count": 48,
   "id": "f96d326d-7db4-4665-ac8a-ca6593078830",
   "metadata": {},
   "outputs": [
    {
     "name": "stdout",
     "output_type": "stream",
     "text": [
      "Predicted proba: [[1. 0.]]\n",
      "Predicted value: 0\n",
      "Actually value: 0\n"
     ]
    }
   ],
   "source": [
    "#Predict Output\n",
    "predicted= model.predict_proba([data_test[0]])\n",
    "print(\"Predicted proba:\", predicted)\n",
    "print(\"Predicted value:\",  model.predict([data_test[0]]).prod())\n",
    "print(\"Actually value:\",  target_test[0])"
   ]
  },
  {
   "cell_type": "markdown",
   "id": "1f70c8bb-82da-4acf-b944-6e61fb69dad1",
   "metadata": {},
   "source": [
    "\n",
    "##### Accuracy , precision and recall of the Models?"
   ]
  },
  {
   "cell_type": "code",
   "execution_count": 49,
   "id": "e43d4b2b-782f-4bbb-a8d4-fb68cd7b7c17",
   "metadata": {},
   "outputs": [
    {
     "name": "stdout",
     "output_type": "stream",
     "text": [
      "Accuracy: 0.9035087719298246\n",
      "precision: [0.81176471 0.95804196]\n",
      "recall: [0.92       0.89542484]\n"
     ]
    }
   ],
   "source": [
    "from sklearn import metrics\n",
    "from sklearn.metrics import precision_score\n",
    "from sklearn.metrics import recall_score\n",
    "\n",
    "#Predict the response for test dataset\n",
    "target_pred = model.predict(data_test)\n",
    "\n",
    "print(\"Accuracy:\",metrics.accuracy_score(target_test, target_pred))\n",
    "\n",
    "precision = precision_score(target_test, target_pred, average=None)\n",
    "print('precision: {}'.format(precision))\n",
    "\n",
    "recall = recall_score(target_test, target_pred, average=None)\n",
    "print('recall: {}'.format(recall))"
   ]
  },
  {
   "cell_type": "code",
   "execution_count": null,
   "id": "0b58b484-e0f1-48cf-887b-11ceeb744d8a",
   "metadata": {},
   "outputs": [],
   "source": []
  }
 ],
 "metadata": {
  "kernelspec": {
   "display_name": "Python 3 (ipykernel)",
   "language": "python",
   "name": "python3"
  },
  "language_info": {
   "codemirror_mode": {
    "name": "ipython",
    "version": 3
   },
   "file_extension": ".py",
   "mimetype": "text/x-python",
   "name": "python",
   "nbconvert_exporter": "python",
   "pygments_lexer": "ipython3",
   "version": "3.9.0"
  }
 },
 "nbformat": 4,
 "nbformat_minor": 5
}
