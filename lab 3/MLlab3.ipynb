{
 "cells": [
  {
   "cell_type": "code",
   "execution_count": 1,
   "id": "8e4fc792",
   "metadata": {},
   "outputs": [],
   "source": [
    "from sklearn import datasets\n",
    "from sklearn.naive_bayes import GaussianNB\n",
    "\n",
    "iris = datasets.load_iris()"
   ]
  },
  {
   "cell_type": "code",
   "execution_count": 2,
   "id": "bd087029",
   "metadata": {},
   "outputs": [
    {
     "name": "stdout",
     "output_type": "stream",
     "text": [
      "Features:  ['sepal length (cm)', 'sepal width (cm)', 'petal length (cm)', 'petal width (cm)']\n",
      "Labels:  ['setosa' 'versicolor' 'virginica']\n"
     ]
    },
    {
     "data": {
      "text/plain": [
       "(150, 4)"
      ]
     },
     "execution_count": 2,
     "metadata": {},
     "output_type": "execute_result"
    }
   ],
   "source": [
    "print(\"Features: \", iris.feature_names)\n",
    "\n",
    "print(\"Labels: \", iris.target_names)\n",
    "\n",
    "iris.data.shape"
   ]
  },
  {
   "cell_type": "code",
   "execution_count": null,
   "id": "e341a583",
   "metadata": {},
   "outputs": [],
   "source": [
    "Predictions"
   ]
  },
  {
   "cell_type": "code",
   "execution_count": 3,
   "id": "f2d76541",
   "metadata": {},
   "outputs": [],
   "source": [
    "from sklearn import preprocessing\n",
    "from sklearn.naive_bayes import GaussianNB, MultinomialNB"
   ]
  },
  {
   "cell_type": "code",
   "execution_count": 4,
   "id": "bd78be80",
   "metadata": {},
   "outputs": [
    {
     "name": "stdout",
     "output_type": "stream",
     "text": [
      "Humidity: [2 0 2 2 2 1 2 2 1 0 0 1 2 2]\n",
      "Outlook: [1 1 0 2 2 2 0 1 1 2 1 0 0 2]\n",
      "Play: [0 0 1 1 1 0 1 0 1 1 1 1 1 0]\n",
      "Temp: [1 1 1 2 0 0 0 2 0 2 2 2 1 2]\n",
      "Wind: [0 1 0 0 0 1 1 0 0 0 1 1 0 1]\n"
     ]
    }
   ],
   "source": [
    "import numpy as np \n",
    "import pandas as pd\n",
    "\n",
    "\n",
    "# Step 2: Load Data\n",
    "        \n",
    "datasets = pd.read_csv('Dataset1.csv') \n",
    "Humidity=datasets['Humidity']\n",
    "Outlook=datasets['Outlook']\n",
    "Play=datasets['Play']\n",
    "Temp=datasets['Temp']\n",
    "Wind=datasets['Wind']\n",
    "\n",
    "le = preprocessing.LabelEncoder()\n",
    "Humidity_encoded=le.fit_transform(Humidity)\n",
    "print(\"Humidity:\" ,Humidity_encoded)\n",
    "\n",
    "Outlook_encoded=le.fit_transform(Outlook)\n",
    "print(\"Outlook:\" ,Outlook_encoded)\n",
    "\n",
    "Play_encoded=le.fit_transform(Play)\n",
    "print(\"Play:\" ,Play_encoded)\n",
    "\n",
    "Temp_encoded=le.fit_transform(Temp)\n",
    "print(\"Temp:\" ,Temp_encoded)\n",
    "\n",
    "Wind_encoded=le.fit_transform(Wind)\n",
    "print(\"Wind:\" ,Wind_encoded)"
   ]
  },
  {
   "cell_type": "code",
   "execution_count": 5,
   "id": "f70491c9",
   "metadata": {},
   "outputs": [
    {
     "name": "stdout",
     "output_type": "stream",
     "text": [
      "Features: ((2, 1, 1, 0), (0, 1, 1, 1), (2, 0, 1, 0), (2, 2, 2, 0), (2, 2, 0, 0), (1, 2, 0, 1), (2, 0, 0, 1), (2, 1, 2, 0), (1, 1, 0, 0), (0, 2, 2, 0), (0, 1, 2, 1), (1, 0, 2, 1), (2, 0, 1, 0), (2, 2, 2, 1))\n"
     ]
    }
   ],
   "source": [
    "features=tuple(zip(Humidity_encoded,Outlook_encoded,Temp_encoded,Wind_encoded))\n",
    "print(\"Features:\",features)"
   ]
  },
  {
   "cell_type": "code",
   "execution_count": 6,
   "id": "097de25c",
   "metadata": {},
   "outputs": [
    {
     "data": {
      "text/plain": [
       "MultinomialNB()"
      ]
     },
     "execution_count": 6,
     "metadata": {},
     "output_type": "execute_result"
    }
   ],
   "source": [
    "model=MultinomialNB()\n",
    "# Train the model using the training sets\n",
    "model.fit(features,Play)"
   ]
  },
  {
   "cell_type": "code",
   "execution_count": 7,
   "id": "79a1fac7",
   "metadata": {},
   "outputs": [
    {
     "name": "stdout",
     "output_type": "stream",
     "text": [
      "Predicted Value: ['Y']\n"
     ]
    }
   ],
   "source": [
    "predicted= model.predict([[2,1,2,0]])#[[HUMIDITY=2,OUTLOOK=1,TEMP=2,WIND=0]] \n",
    "print(\"Predicted Value:\", predicted)"
   ]
  },
  {
   "cell_type": "code",
   "execution_count": 8,
   "id": "c304202d",
   "metadata": {},
   "outputs": [
    {
     "name": "stdout",
     "output_type": "stream",
     "text": [
      "Predicted Value: ['N']\n"
     ]
    }
   ],
   "source": [
    "predicted1= model.predict([[0,2,0,1]])#[[HUMIDITY=0,OUTLOOK=2,TEMP=0,WIND=1]]\n",
    "print(\"Predicted Value:\", predicted1)"
   ]
  },
  {
   "cell_type": "code",
   "execution_count": null,
   "id": "7b781ec1",
   "metadata": {},
   "outputs": [],
   "source": [
    "Cheking for train test split"
   ]
  },
  {
   "cell_type": "code",
   "execution_count": 9,
   "id": "47936906",
   "metadata": {},
   "outputs": [],
   "source": [
    "from sklearn.model_selection import train_test_split\n",
    "\n",
    "data_train, data_test, target_train, target_test = train_test_split(features, Play, test_size = 0.20, random_state =11)"
   ]
  },
  {
   "cell_type": "code",
   "execution_count": 10,
   "id": "7f93e41b",
   "metadata": {},
   "outputs": [],
   "source": [
    "import numpy as np\n",
    "gnb = GaussianNB()\n",
    "\n",
    "gnb.fit(data_train, target_train)\n",
    "\n",
    "target_pred = gnb.predict(data_test)"
   ]
  },
  {
   "cell_type": "code",
   "execution_count": 11,
   "id": "625608e6",
   "metadata": {},
   "outputs": [
    {
     "name": "stdout",
     "output_type": "stream",
     "text": [
      "Accuracy: 0.6666666666666666\n"
     ]
    }
   ],
   "source": [
    "from sklearn import metrics\n",
    "\n",
    "print(\"Accuracy:\",metrics.accuracy_score(target_test, target_pred))"
   ]
  },
  {
   "cell_type": "code",
   "execution_count": 12,
   "id": "eafa1df1",
   "metadata": {},
   "outputs": [
    {
     "data": {
      "text/plain": [
       "array([[0, 0],\n",
       "       [1, 2]], dtype=int64)"
      ]
     },
     "execution_count": 12,
     "metadata": {},
     "output_type": "execute_result"
    }
   ],
   "source": [
    "from sklearn.metrics import confusion_matrix\n",
    "confusion_matrix(target_test, target_pred)"
   ]
  },
  {
   "cell_type": "code",
   "execution_count": 13,
   "id": "21013672",
   "metadata": {},
   "outputs": [
    {
     "name": "stdout",
     "output_type": "stream",
     "text": [
      "precision:[0. 1.]\n",
      "recall:[0.         0.66666667]\n"
     ]
    },
    {
     "name": "stderr",
     "output_type": "stream",
     "text": [
      "C:\\Users\\manan\\AppData\\Local\\Programs\\Python\\Python39\\lib\\site-packages\\sklearn\\metrics\\_classification.py:1308: UndefinedMetricWarning: Recall is ill-defined and being set to 0.0 in labels with no true samples. Use `zero_division` parameter to control this behavior.\n",
      "  _warn_prf(average, modifier, msg_start, len(result))\n"
     ]
    }
   ],
   "source": [
    "from sklearn.metrics import precision_score\n",
    "from sklearn.metrics import recall_score\n",
    "\n",
    "precision = precision_score(target_test, target_pred, average=None)\n",
    "recall = recall_score(target_test, target_pred, average=None)\n",
    "\n",
    "print('precision:{}'.format(precision))\n",
    "print('recall:{}'.format(recall))"
   ]
  },
  {
   "cell_type": "code",
   "execution_count": null,
   "id": "3e9969a0",
   "metadata": {},
   "outputs": [],
   "source": [
    "For multinomial:-"
   ]
  },
  {
   "cell_type": "code",
   "execution_count": 14,
   "id": "ce4ce18f",
   "metadata": {},
   "outputs": [],
   "source": [
    "import numpy as np\n",
    "gnb = model\n",
    "\n",
    "gnb.fit(data_train, target_train)\n",
    "\n",
    "target_pred = gnb.predict(data_test)"
   ]
  },
  {
   "cell_type": "code",
   "execution_count": 15,
   "id": "ef43b5cc",
   "metadata": {},
   "outputs": [
    {
     "name": "stdout",
     "output_type": "stream",
     "text": [
      "Accuracy: 0.6666666666666666\n"
     ]
    }
   ],
   "source": [
    "from sklearn import metrics\n",
    "\n",
    "print(\"Accuracy:\",metrics.accuracy_score(target_test, target_pred))"
   ]
  },
  {
   "cell_type": "code",
   "execution_count": 16,
   "id": "2d52c16e",
   "metadata": {},
   "outputs": [
    {
     "data": {
      "text/plain": [
       "array([[0, 0],\n",
       "       [1, 2]], dtype=int64)"
      ]
     },
     "execution_count": 16,
     "metadata": {},
     "output_type": "execute_result"
    }
   ],
   "source": [
    "from sklearn.metrics import confusion_matrix\n",
    "confusion_matrix(target_test, target_pred)"
   ]
  },
  {
   "cell_type": "code",
   "execution_count": 17,
   "id": "65eedd83",
   "metadata": {},
   "outputs": [
    {
     "name": "stdout",
     "output_type": "stream",
     "text": [
      "precision: [0. 1.]\n",
      "recall: [0.         0.66666667]\n"
     ]
    },
    {
     "name": "stderr",
     "output_type": "stream",
     "text": [
      "C:\\Users\\manan\\AppData\\Local\\Programs\\Python\\Python39\\lib\\site-packages\\sklearn\\metrics\\_classification.py:1308: UndefinedMetricWarning: Recall is ill-defined and being set to 0.0 in labels with no true samples. Use `zero_division` parameter to control this behavior.\n",
      "  _warn_prf(average, modifier, msg_start, len(result))\n"
     ]
    }
   ],
   "source": [
    "from sklearn.metrics import precision_score\n",
    "from sklearn.metrics import recall_score\n",
    "precision = precision_score(target_test, target_pred, average=None)\n",
    "recall = recall_score(target_test, target_pred, average=None)\n",
    "print('precision: {}'.format(precision))\n",
    "print('recall: {}'.format(recall))"
   ]
  }
 ],
 "metadata": {
  "kernelspec": {
   "display_name": "Python 3 (ipykernel)",
   "language": "python",
   "name": "python3"
  },
  "language_info": {
   "codemirror_mode": {
    "name": "ipython",
    "version": 3
   },
   "file_extension": ".py",
   "mimetype": "text/x-python",
   "name": "python",
   "nbconvert_exporter": "python",
   "pygments_lexer": "ipython3",
   "version": "3.9.9"
  }
 },
 "nbformat": 4,
 "nbformat_minor": 5
}
