{
 "cells": [
  {
   "cell_type": "markdown",
   "id": "a5c80aa6-a42f-4913-9413-afc03f08cff1",
   "metadata": {},
   "source": [
    "##### 51<=Rollnumber<=75: \n",
    "#### Task 1: Try the algo on Weather Dataset - LabelEncoding of features: and Train test Division 90%-10%\n",
    "\n",
    "##### Questions: For Task - 1\n",
    "\n",
    "##### (1) What will be the value of Play, if Outlook is ’Rainy’, Temperature is ’Mild’, Humidity =’Normal’, and Wind = ’False’?\n",
    "\n",
    "##### (2) What will be the value of Play, if Outlook is ’Sunny’, Temeprature is ’Cool’, Humidity =’High’, and Wind = ’True’?\n",
    "\n",
    "##### (3) Accuracy , precision and recall of both Models?"
   ]
  },
  {
   "cell_type": "markdown",
   "id": "58cc475b-e0a9-407e-90b7-b6890c1da232",
   "metadata": {
    "tags": []
   },
   "source": [
    "### Step 1: Import necessary libraries."
   ]
  },
  {
   "cell_type": "code",
   "execution_count": 13,
   "id": "2692a9d2-c7e1-488d-9c89-3a1dc67e665a",
   "metadata": {},
   "outputs": [],
   "source": [
    "from sklearn import preprocessing\n",
    "from sklearn.model_selection import train_test_split\n",
    "from sklearn.tree import DecisionTreeClassifier\n",
    "import pandas as pd"
   ]
  },
  {
   "cell_type": "markdown",
   "id": "152e5637-4053-4e88-b60e-59003b32c3ce",
   "metadata": {},
   "source": [
    "### Step 2: Prepare dataset."
   ]
  },
  {
   "cell_type": "code",
   "execution_count": 14,
   "id": "8a79cd08-556f-4f24-994d-76563f19f097",
   "metadata": {},
   "outputs": [
    {
     "data": {
      "text/html": [
       "<div>\n",
       "<style scoped>\n",
       "    .dataframe tbody tr th:only-of-type {\n",
       "        vertical-align: middle;\n",
       "    }\n",
       "\n",
       "    .dataframe tbody tr th {\n",
       "        vertical-align: top;\n",
       "    }\n",
       "\n",
       "    .dataframe thead th {\n",
       "        text-align: right;\n",
       "    }\n",
       "</style>\n",
       "<table border=\"1\" class=\"dataframe\">\n",
       "  <thead>\n",
       "    <tr style=\"text-align: right;\">\n",
       "      <th></th>\n",
       "      <th>Outlook</th>\n",
       "      <th>Temp</th>\n",
       "      <th>Wind</th>\n",
       "      <th>Humidity</th>\n",
       "      <th>Class</th>\n",
       "    </tr>\n",
       "  </thead>\n",
       "  <tbody>\n",
       "    <tr>\n",
       "      <th>0</th>\n",
       "      <td>R</td>\n",
       "      <td>H</td>\n",
       "      <td>F</td>\n",
       "      <td>High</td>\n",
       "      <td>N</td>\n",
       "    </tr>\n",
       "    <tr>\n",
       "      <th>1</th>\n",
       "      <td>R</td>\n",
       "      <td>H</td>\n",
       "      <td>T</td>\n",
       "      <td>High</td>\n",
       "      <td>N</td>\n",
       "    </tr>\n",
       "    <tr>\n",
       "      <th>2</th>\n",
       "      <td>O</td>\n",
       "      <td>H</td>\n",
       "      <td>F</td>\n",
       "      <td>High</td>\n",
       "      <td>Y</td>\n",
       "    </tr>\n",
       "    <tr>\n",
       "      <th>3</th>\n",
       "      <td>S</td>\n",
       "      <td>M</td>\n",
       "      <td>F</td>\n",
       "      <td>High</td>\n",
       "      <td>Y</td>\n",
       "    </tr>\n",
       "    <tr>\n",
       "      <th>4</th>\n",
       "      <td>S</td>\n",
       "      <td>C</td>\n",
       "      <td>F</td>\n",
       "      <td>Normal</td>\n",
       "      <td>Y</td>\n",
       "    </tr>\n",
       "    <tr>\n",
       "      <th>5</th>\n",
       "      <td>S</td>\n",
       "      <td>C</td>\n",
       "      <td>T</td>\n",
       "      <td>Normal</td>\n",
       "      <td>N</td>\n",
       "    </tr>\n",
       "    <tr>\n",
       "      <th>6</th>\n",
       "      <td>O</td>\n",
       "      <td>C</td>\n",
       "      <td>T</td>\n",
       "      <td>Normal</td>\n",
       "      <td>Y</td>\n",
       "    </tr>\n",
       "    <tr>\n",
       "      <th>7</th>\n",
       "      <td>R</td>\n",
       "      <td>M</td>\n",
       "      <td>F</td>\n",
       "      <td>High</td>\n",
       "      <td>N</td>\n",
       "    </tr>\n",
       "    <tr>\n",
       "      <th>8</th>\n",
       "      <td>R</td>\n",
       "      <td>C</td>\n",
       "      <td>F</td>\n",
       "      <td>Normal</td>\n",
       "      <td>Y</td>\n",
       "    </tr>\n",
       "    <tr>\n",
       "      <th>9</th>\n",
       "      <td>S</td>\n",
       "      <td>M</td>\n",
       "      <td>F</td>\n",
       "      <td>Normal</td>\n",
       "      <td>Y</td>\n",
       "    </tr>\n",
       "    <tr>\n",
       "      <th>10</th>\n",
       "      <td>R</td>\n",
       "      <td>M</td>\n",
       "      <td>T</td>\n",
       "      <td>Normal</td>\n",
       "      <td>Y</td>\n",
       "    </tr>\n",
       "    <tr>\n",
       "      <th>11</th>\n",
       "      <td>O</td>\n",
       "      <td>M</td>\n",
       "      <td>T</td>\n",
       "      <td>High</td>\n",
       "      <td>Y</td>\n",
       "    </tr>\n",
       "    <tr>\n",
       "      <th>12</th>\n",
       "      <td>O</td>\n",
       "      <td>H</td>\n",
       "      <td>F</td>\n",
       "      <td>Normal</td>\n",
       "      <td>Y</td>\n",
       "    </tr>\n",
       "    <tr>\n",
       "      <th>13</th>\n",
       "      <td>S</td>\n",
       "      <td>M</td>\n",
       "      <td>T</td>\n",
       "      <td>High</td>\n",
       "      <td>N</td>\n",
       "    </tr>\n",
       "  </tbody>\n",
       "</table>\n",
       "</div>"
      ],
      "text/plain": [
       "   Outlook Temp Wind Humidity Class\n",
       "0        R    H    F     High     N\n",
       "1        R    H    T     High     N\n",
       "2        O    H    F     High     Y\n",
       "3        S    M    F     High     Y\n",
       "4        S    C    F   Normal     Y\n",
       "5        S    C    T   Normal     N\n",
       "6        O    C    T   Normal     Y\n",
       "7        R    M    F     High     N\n",
       "8        R    C    F   Normal     Y\n",
       "9        S    M    F   Normal     Y\n",
       "10       R    M    T   Normal     Y\n",
       "11       O    M    T     High     Y\n",
       "12       O    H    F   Normal     Y\n",
       "13       S    M    T     High     N"
      ]
     },
     "execution_count": 14,
     "metadata": {},
     "output_type": "execute_result"
    }
   ],
   "source": [
    "dataframe = pd.read_csv('./Dataset2.csv')\n",
    "dataframe"
   ]
  },
  {
   "cell_type": "markdown",
   "id": "69435d41-2489-457a-957d-963b19fba9e9",
   "metadata": {},
   "source": [
    "### Step 3: Digitize the data set using encoding"
   ]
  },
  {
   "cell_type": "code",
   "execution_count": 15,
   "id": "9a16f173-3cbc-4057-b9a3-6d373741c5fa",
   "metadata": {},
   "outputs": [
    {
     "name": "stdout",
     "output_type": "stream",
     "text": [
      "Outlook mapping: {'O': 0, 'R': 1, 'S': 2}\n",
      "Temperature mapping: {'C': 0, 'H': 1, 'M': 2}\n",
      "Wind mapping: {'F': 0, 'T': 1}\n",
      "Humidity mapping: {'High': 0, 'Normal': 1}\n",
      "Label mapping: {'N': 0, 'Y': 1}\n",
      "Outlook: [1 1 0 2 2 2 0 1 1 2 1 0 0 2]\n",
      "Temp: [1 1 1 2 0 0 0 2 0 2 2 2 1 2]\n",
      "Wind: [0 1 0 0 0 1 1 0 0 0 1 1 0 1]\n",
      "Humidity: [0 0 0 0 1 1 1 0 1 1 1 0 1 0]\n",
      "Label: [0 0 1 1 1 0 1 0 1 1 1 1 1 0]\n"
     ]
    }
   ],
   "source": [
    "#creating labelEncoder\n",
    "le = preprocessing.LabelEncoder()\n",
    "\n",
    "# Converting string labels into numbers.\n",
    "outlook = le.fit_transform(dataframe.iloc[:, 0])\n",
    "Outlook_name_mapping = dict(zip(le.classes_, le.transform(le.classes_)))\n",
    "print(\"Outlook mapping:\",Outlook_name_mapping)\n",
    "\n",
    "temp = le.fit_transform(dataframe.iloc[:, 1])\n",
    "Temperature_name_mapping = dict(zip(le.classes_, le.transform(le.classes_)))\n",
    "print(\"Temperature mapping:\",Temperature_name_mapping)\n",
    "\n",
    "wind = le.fit_transform(dataframe.iloc[:, 2])\n",
    "Wind_name_mapping = dict(zip(le.classes_, le.transform(le.classes_)))\n",
    "print(\"Wind mapping:\",Wind_name_mapping)\n",
    "\n",
    "humidity = le.fit_transform(dataframe.iloc[:, 3])\n",
    "humidity_name_mapping = dict(zip(le.classes_, le.transform(le.classes_)))\n",
    "print(\"Humidity mapping:\",humidity_name_mapping)\n",
    "\n",
    "label = le.fit_transform(dataframe.iloc[:, 4])\n",
    "label_name_mapping = dict(zip(le.classes_, le.transform(le.classes_)))\n",
    "print(\"Label mapping:\",label_name_mapping)\n",
    "\n",
    "print(\"Outlook:\",outlook)\n",
    "print(\"Temp:\",temp)\n",
    "print(\"Wind:\",wind)\n",
    "print(\"Humidity:\",humidity)\n",
    "\n",
    "print(\"Label:\" ,label)"
   ]
  },
  {
   "cell_type": "markdown",
   "id": "9c06bb76-763e-4816-abd4-ae0b930fb1c3",
   "metadata": {},
   "source": [
    "### Step 4: Merge different features to prepare dataset"
   ]
  },
  {
   "cell_type": "code",
   "execution_count": 6,
   "id": "ea70e534-6305-47c1-9285-55262b55d1ba",
   "metadata": {},
   "outputs": [
    {
     "name": "stdout",
     "output_type": "stream",
     "text": [
      "Features: ((1, 1, 0, 0), (1, 1, 1, 0), (0, 1, 0, 0), (2, 2, 0, 0), (2, 0, 0, 1), (2, 0, 1, 1), (0, 0, 1, 1), (1, 2, 0, 0), (1, 0, 0, 1), (2, 2, 0, 1), (1, 2, 1, 1), (0, 2, 1, 0), (0, 1, 0, 1), (2, 2, 1, 0))\n"
     ]
    }
   ],
   "source": [
    "features=tuple(zip(outlook, temp, wind, humidity))\n",
    "print(\"Features:\",features)"
   ]
  },
  {
   "cell_type": "markdown",
   "id": "7e4305c1-1921-4c80-a87d-cd70c536bbe3",
   "metadata": {},
   "source": [
    "### Step 5: Train ’Decision Tree Classifier’"
   ]
  },
  {
   "cell_type": "code",
   "execution_count": 7,
   "id": "2aa664b0-d081-4a7c-ac88-445e23974003",
   "metadata": {},
   "outputs": [
    {
     "data": {
      "text/plain": [
       "DecisionTreeClassifier()"
      ]
     },
     "execution_count": 7,
     "metadata": {},
     "output_type": "execute_result"
    }
   ],
   "source": [
    "#Create a Classifier\n",
    "model=DecisionTreeClassifier()\n",
    "\n",
    "#split data set into train and test sets\n",
    "data_train, data_test, target_train, target_test = train_test_split(features,\n",
    "label, test_size = 0.10, random_state = 68)\n",
    "\n",
    "# Train the model using the training sets\n",
    "model.fit(data_train, target_train)"
   ]
  },
  {
   "cell_type": "markdown",
   "id": "1dbe6641-e738-4f3d-89b3-fb8802b594f7",
   "metadata": {},
   "source": [
    "### Step 6: Predict Output for new data"
   ]
  },
  {
   "cell_type": "markdown",
   "id": "0c57405f-9212-4ca1-b586-90941272c585",
   "metadata": {},
   "source": [
    "##### (1) What will be the value of Play, if Outlook is ’Rainy’, Temperature is ’Mild’, Humidity =’Normal’, and Wind = ’False’?"
   ]
  },
  {
   "cell_type": "code",
   "execution_count": 17,
   "id": "f96d326d-7db4-4665-ac8a-ca6593078830",
   "metadata": {},
   "outputs": [
    {
     "name": "stdout",
     "output_type": "stream",
     "text": [
      "Predicted proba: [[0. 1.]]\n",
      "Predicted value: 1\n"
     ]
    }
   ],
   "source": [
    "#Predict Output\n",
    "predicted= model.predict_proba([[1, 2, 0, 1]]) # 1:rainy, 2:Mild, 0:false, 1:normal\n",
    "print(\"Predicted proba:\", predicted)\n",
    "print(\"Predicted value:\",  model.predict([[1, 2, 0, 1]]).prod())"
   ]
  },
  {
   "cell_type": "markdown",
   "id": "28f046b5-8473-460e-964f-3fa804b0b76e",
   "metadata": {},
   "source": [
    "\n",
    "##### (2) What will be the value of Play, if Outlook is ’Sunny’, Temeprature is ’Cool’, Humidity =’High’, and Wind = ’True’?\n"
   ]
  },
  {
   "cell_type": "code",
   "execution_count": 18,
   "id": "470cecb4-ae91-41bd-a553-324b5e71844b",
   "metadata": {},
   "outputs": [
    {
     "name": "stdout",
     "output_type": "stream",
     "text": [
      "Predicted proba: [[0. 1.]]\n",
      "Predicted value: 1\n"
     ]
    }
   ],
   "source": [
    "#Predict Output\n",
    "predicted= model.predict_proba([[2, 0, 1, 0]]) # 2:sunny, 0:Cool, 1:true, 0:high\n",
    "print(\"Predicted proba:\", predicted)\n",
    "print(\"Predicted value:\",  model.predict([[2, 0, 1, 0]]).prod())"
   ]
  },
  {
   "cell_type": "markdown",
   "id": "1f70c8bb-82da-4acf-b944-6e61fb69dad1",
   "metadata": {},
   "source": [
    "\n",
    "##### (3) Accuracy , precision and recall of both Models?"
   ]
  },
  {
   "cell_type": "code",
   "execution_count": 19,
   "id": "e43d4b2b-782f-4bbb-a8d4-fb68cd7b7c17",
   "metadata": {},
   "outputs": [
    {
     "name": "stdout",
     "output_type": "stream",
     "text": [
      "Accuracy: 0.5\n",
      "precision: [1. 0.]\n",
      "recall: [0.5 0. ]\n"
     ]
    },
    {
     "name": "stderr",
     "output_type": "stream",
     "text": [
      "C:\\Users\\yash\\Desktop\\Sem-6\\ML\\venv\\lib\\site-packages\\sklearn\\metrics\\_classification.py:1308: UndefinedMetricWarning: Recall is ill-defined and being set to 0.0 in labels with no true samples. Use `zero_division` parameter to control this behavior.\n",
      "  _warn_prf(average, modifier, msg_start, len(result))\n"
     ]
    }
   ],
   "source": [
    "from sklearn import metrics\n",
    "from sklearn.metrics import precision_score\n",
    "from sklearn.metrics import recall_score\n",
    "\n",
    "#Predict the response for test dataset\n",
    "target_pred = model.predict(data_test)\n",
    "\n",
    "print(\"Accuracy:\",metrics.accuracy_score(target_test, target_pred))\n",
    "\n",
    "precision = precision_score(target_test, target_pred, average=None)\n",
    "print('precision: {}'.format(precision))\n",
    "\n",
    "recall = recall_score(target_test, target_pred, average=None)\n",
    "print('recall: {}'.format(recall))"
   ]
  },
  {
   "cell_type": "code",
   "execution_count": null,
   "id": "0b58b484-e0f1-48cf-887b-11ceeb744d8a",
   "metadata": {},
   "outputs": [],
   "source": []
  }
 ],
 "metadata": {
  "kernelspec": {
   "display_name": "Python 3 (ipykernel)",
   "language": "python",
   "name": "python3"
  },
  "language_info": {
   "codemirror_mode": {
    "name": "ipython",
    "version": 3
   },
   "file_extension": ".py",
   "mimetype": "text/x-python",
   "name": "python",
   "nbconvert_exporter": "python",
   "pygments_lexer": "ipython3",
   "version": "3.9.0"
  }
 },
 "nbformat": 4,
 "nbformat_minor": 5
}
