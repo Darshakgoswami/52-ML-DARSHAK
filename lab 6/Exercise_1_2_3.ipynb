{
 "cells": [
  {
   "cell_type": "markdown",
   "id": "2c488e70",
   "metadata": {},
   "source": [
    "# Preparing Iris dataset"
   ]
  },
  {
   "cell_type": "code",
   "execution_count": 1,
   "id": "30edc5e3",
   "metadata": {},
   "outputs": [],
   "source": [
    "from sklearn import datasets\n",
    "import pandas as pd\n",
    "from sklearn import metrics\n",
    "import matplotlib.pyplot as plt\n",
    "from sklearn.decomposition import PCA"
   ]
  },
  {
   "cell_type": "code",
   "execution_count": 2,
   "id": "03206c72",
   "metadata": {},
   "outputs": [
    {
     "data": {
      "text/plain": [
       "dict_keys(['data', 'target', 'frame', 'target_names', 'DESCR', 'feature_names', 'filename', 'data_module'])"
      ]
     },
     "execution_count": 2,
     "metadata": {},
     "output_type": "execute_result"
    }
   ],
   "source": [
    "data = datasets.load_iris()\n",
    "data.keys()"
   ]
  },
  {
   "cell_type": "code",
   "execution_count": 3,
   "id": "20718f44",
   "metadata": {},
   "outputs": [
    {
     "data": {
      "text/html": [
       "<div>\n",
       "<style scoped>\n",
       "    .dataframe tbody tr th:only-of-type {\n",
       "        vertical-align: middle;\n",
       "    }\n",
       "\n",
       "    .dataframe tbody tr th {\n",
       "        vertical-align: top;\n",
       "    }\n",
       "\n",
       "    .dataframe thead th {\n",
       "        text-align: right;\n",
       "    }\n",
       "</style>\n",
       "<table border=\"1\" class=\"dataframe\">\n",
       "  <thead>\n",
       "    <tr style=\"text-align: right;\">\n",
       "      <th></th>\n",
       "      <th>sepal length (cm)</th>\n",
       "      <th>sepal width (cm)</th>\n",
       "      <th>petal length (cm)</th>\n",
       "      <th>petal width (cm)</th>\n",
       "      <th>target</th>\n",
       "    </tr>\n",
       "  </thead>\n",
       "  <tbody>\n",
       "    <tr>\n",
       "      <th>0</th>\n",
       "      <td>5.1</td>\n",
       "      <td>3.5</td>\n",
       "      <td>1.4</td>\n",
       "      <td>0.2</td>\n",
       "      <td>0</td>\n",
       "    </tr>\n",
       "    <tr>\n",
       "      <th>1</th>\n",
       "      <td>4.9</td>\n",
       "      <td>3.0</td>\n",
       "      <td>1.4</td>\n",
       "      <td>0.2</td>\n",
       "      <td>0</td>\n",
       "    </tr>\n",
       "    <tr>\n",
       "      <th>2</th>\n",
       "      <td>4.7</td>\n",
       "      <td>3.2</td>\n",
       "      <td>1.3</td>\n",
       "      <td>0.2</td>\n",
       "      <td>0</td>\n",
       "    </tr>\n",
       "    <tr>\n",
       "      <th>3</th>\n",
       "      <td>4.6</td>\n",
       "      <td>3.1</td>\n",
       "      <td>1.5</td>\n",
       "      <td>0.2</td>\n",
       "      <td>0</td>\n",
       "    </tr>\n",
       "    <tr>\n",
       "      <th>4</th>\n",
       "      <td>5.0</td>\n",
       "      <td>3.6</td>\n",
       "      <td>1.4</td>\n",
       "      <td>0.2</td>\n",
       "      <td>0</td>\n",
       "    </tr>\n",
       "  </tbody>\n",
       "</table>\n",
       "</div>"
      ],
      "text/plain": [
       "   sepal length (cm)  sepal width (cm)  petal length (cm)  petal width (cm)  \\\n",
       "0                5.1               3.5                1.4               0.2   \n",
       "1                4.9               3.0                1.4               0.2   \n",
       "2                4.7               3.2                1.3               0.2   \n",
       "3                4.6               3.1                1.5               0.2   \n",
       "4                5.0               3.6                1.4               0.2   \n",
       "\n",
       "   target  \n",
       "0       0  \n",
       "1       0  \n",
       "2       0  \n",
       "3       0  \n",
       "4       0  "
      ]
     },
     "execution_count": 3,
     "metadata": {},
     "output_type": "execute_result"
    }
   ],
   "source": [
    "dataframe = pd.DataFrame(data = data.data,index = None,columns=data.feature_names)\n",
    "dataframe['target'] = data.target\n",
    "dataframe.head()"
   ]
  },
  {
   "cell_type": "code",
   "execution_count": 4,
   "id": "eeeae58b",
   "metadata": {},
   "outputs": [
    {
     "data": {
      "text/plain": [
       "((150, 4), (150,), array(['setosa', 'versicolor', 'virginica'], dtype='<U10'))"
      ]
     },
     "execution_count": 4,
     "metadata": {},
     "output_type": "execute_result"
    }
   ],
   "source": [
    "X = data.data\n",
    "Y = data.target\n",
    "X.shape, Y.shape, data.target_names"
   ]
  },
  {
   "cell_type": "markdown",
   "id": "966ab635",
   "metadata": {},
   "source": [
    "## 1. Train the Naive Bayes model without PCA and compare the result with PCA + Naive Bayes. Write down your observations. ##"
   ]
  },
  {
   "cell_type": "markdown",
   "id": "e132afb9",
   "metadata": {},
   "source": [
    "### Applying naive bayes on iris dataset without PCA."
   ]
  },
  {
   "cell_type": "code",
   "execution_count": 5,
   "id": "153bfeb6",
   "metadata": {},
   "outputs": [],
   "source": [
    "from sklearn.model_selection import train_test_split\n",
    "from sklearn.naive_bayes import GaussianNB"
   ]
  },
  {
   "cell_type": "code",
   "execution_count": 6,
   "id": "7b2f4f6d",
   "metadata": {},
   "outputs": [
    {
     "data": {
      "text/plain": [
       "GaussianNB()"
      ]
     },
     "execution_count": 6,
     "metadata": {},
     "output_type": "execute_result"
    }
   ],
   "source": [
    "X_train,X_test,y_train,y_test = train_test_split(X,Y,test_size=0.30,random_state=53)\n",
    "model = GaussianNB()\n",
    "model.fit(X_train,y_train)"
   ]
  },
  {
   "cell_type": "code",
   "execution_count": 7,
   "id": "853cb19d",
   "metadata": {},
   "outputs": [
    {
     "name": "stdout",
     "output_type": "stream",
     "text": [
      "Test Score :  0.9333333333333333\n"
     ]
    }
   ],
   "source": [
    "y_pred = model.predict(X_test)\n",
    "print(\"Test Score : \",model.score(X_test,y_test))"
   ]
  },
  {
   "cell_type": "markdown",
   "id": "b1edb6c3",
   "metadata": {},
   "source": [
    "### Applying naive bayes on iris dataset with PCA."
   ]
  },
  {
   "cell_type": "code",
   "execution_count": 8,
   "id": "f3280a5b",
   "metadata": {},
   "outputs": [
    {
     "data": {
      "text/plain": [
       "GaussianNB()"
      ]
     },
     "execution_count": 8,
     "metadata": {},
     "output_type": "execute_result"
    }
   ],
   "source": [
    "pca = PCA(n_components=2)\n",
    "pcaTr = pca.fit(X)\n",
    "X_trf = pcaTr.transform(X)\n",
    "X_train,X_test,y_train,y_test = train_test_split(X_trf,Y,test_size=0.30,random_state=53)\n",
    "model.fit(X_train,y_train)"
   ]
  },
  {
   "cell_type": "code",
   "execution_count": 9,
   "id": "5072daa0",
   "metadata": {},
   "outputs": [
    {
     "name": "stdout",
     "output_type": "stream",
     "text": [
      "Test Score :  0.8666666666666667\n"
     ]
    }
   ],
   "source": [
    "print(\"Test Score : \",model.score(X_test,y_test))"
   ]
  },
  {
   "cell_type": "markdown",
   "id": "c4a6a925",
   "metadata": {},
   "source": [
    " ### *Observation : Even with the lesser number feature we are getting almost same accuracy.* ###\n",
    " ### *Hence use of PCA will help the model to train faster, reduce processing speed and representation of data over graph is also possible.* ###"
   ]
  },
  {
   "cell_type": "markdown",
   "id": "40116ae4",
   "metadata": {},
   "source": [
    "## 2) Run PCA on IRIS dataset. Visualise the output in 2 dimensions using to Principal components. Choose different pairs of principal components and note down your observations. ##"
   ]
  },
  {
   "cell_type": "code",
   "execution_count": 10,
   "id": "454e544c",
   "metadata": {},
   "outputs": [
    {
     "name": "stdout",
     "output_type": "stream",
     "text": [
      "Predicted :  [0 0 2 1 2 2 2 0 1 2 0 1 2 0 2 1 1 1 2 0 1 2 1 0 1 0 0 1 1 0 2 1 1 2 2 2 1\n",
      " 2 1 2 2 0 1 2 2]\n",
      "Actual    :  [0 0 2 1 1 2 2 0 1 2 0 1 1 0 2 1 1 2 2 0 1 2 1 0 1 0 0 1 2 0 2 1 1 1 2 2 1\n",
      " 1 1 2 2 0 1 2 2]\n",
      "Train Score :  0.9333333333333333\n",
      "Test Score :  0.8666666666666667\n",
      "precision: 0.8709876543209876\n",
      "recall: 0.8666666666666667\n"
     ]
    },
    {
     "data": {
      "image/png": "[encoded data removed]",
      "text/plain": [
       "<Figure size 720x504 with 1 Axes>"
      ]
     },
     "metadata": {
      "needs_background": "light"
     },
     "output_type": "display_data"
    }
   ],
   "source": [
    "pca = PCA(n_components=2)\n",
    "pcaTr = pca.fit(X)\n",
    "X_trf = pcaTr.transform(X)\n",
    "X_train,X_test,y_train,y_test = train_test_split(X_trf,Y,test_size=0.30,random_state=53)\n",
    "model.fit(X_train,y_train)\n",
    "y_pred = model.predict(X_test)\n",
    "\n",
    "print(\"Predicted : \",y_pred)\n",
    "print(\"Actual    : \",y_test)\n",
    "print(\"Train Score : \",model.score(X_train,y_train))\n",
    "print(\"Test Score : \",model.score(X_test,y_test))\n",
    "precision =  metrics.precision_score(y_test,y_pred, average=\"weighted\",zero_division=0)\n",
    "recall = metrics.recall_score(y_test, y_pred, average=\"weighted\",zero_division=0)\n",
    "print('precision: {}'.format(precision))\n",
    "print('recall: {}'.format(recall))\n",
    "\n",
    "# Creating figure\n",
    "fig = plt.figure(figsize = (10, 7))\n",
    "\n",
    "# Creating plot\n",
    "plt.scatter(X_trf[:,0], X_trf[:,1], color = \"green\")\n",
    "plt.title(\"2D\")\n",
    " \n",
    "# show plot\n",
    "plt.show()"
   ]
  },
  {
   "cell_type": "code",
   "execution_count": 11,
   "id": "6f451bc9",
   "metadata": {},
   "outputs": [
    {
     "name": "stdout",
     "output_type": "stream",
     "text": [
      "NUMBER OF PCA :  1\n",
      "Predicted :  [0 0 2 1 1 2 2 0 1 2 0 1 2 0 2 1 1 2 2 0 1 2 1 0 1 0 0 1 1 0 2 1 1 2 2 2 1\n",
      " 2 1 2 2 0 1 2 2]\n",
      "Actual    :  [0 0 2 1 1 2 2 0 1 2 0 1 1 0 2 1 1 2 2 0 1 2 1 0 1 0 0 1 2 0 2 1 1 1 2 2 1\n",
      " 1 1 2 2 0 1 2 2]\n",
      "Train Score :  0.9523809523809523\n",
      "Test Score :  0.9111111111111111\n",
      "precision: 0.9157407407407407\n",
      "recall: 0.9111111111111111\n",
      "---------------------------------------------------------------------------\n",
      "NUMBER OF PCA :  2\n",
      "Predicted :  [0 0 2 1 2 2 2 0 1 2 0 1 2 0 2 1 1 1 2 0 1 2 1 0 1 0 0 1 1 0 2 1 1 2 2 2 1\n",
      " 2 1 2 2 0 1 2 2]\n",
      "Actual    :  [0 0 2 1 1 2 2 0 1 2 0 1 1 0 2 1 1 2 2 0 1 2 1 0 1 0 0 1 2 0 2 1 1 1 2 2 1\n",
      " 1 1 2 2 0 1 2 2]\n",
      "Train Score :  0.9333333333333333\n",
      "Test Score :  0.8666666666666667\n",
      "precision: 0.8709876543209876\n",
      "recall: 0.8666666666666667\n",
      "---------------------------------------------------------------------------\n",
      "NUMBER OF PCA :  3\n",
      "Predicted :  [0 0 2 1 2 2 2 0 1 2 0 1 1 0 2 1 1 1 2 0 2 2 1 0 1 0 0 1 2 0 2 1 1 2 2 2 1\n",
      " 2 1 2 2 0 1 2 2]\n",
      "Actual    :  [0 0 2 1 1 2 2 0 1 2 0 1 1 0 2 1 1 2 2 0 1 2 1 0 1 0 0 1 2 0 2 1 1 1 2 2 1\n",
      " 1 1 2 2 0 1 2 2]\n",
      "Train Score :  0.9619047619047619\n",
      "Test Score :  0.8888888888888888\n",
      "precision: 0.8984795321637427\n",
      "recall: 0.8888888888888888\n",
      "---------------------------------------------------------------------------\n",
      "NUMBER OF PCA :  4\n",
      "Predicted :  [0 0 2 1 1 2 2 0 1 2 0 1 1 0 2 1 1 2 2 0 2 2 1 0 1 0 0 1 2 0 2 1 1 2 2 2 1\n",
      " 2 1 2 2 0 1 2 2]\n",
      "Actual    :  [0 0 2 1 1 2 2 0 1 2 0 1 1 0 2 1 1 2 2 0 1 2 1 0 1 0 0 1 2 0 2 1 1 1 2 2 1\n",
      " 1 1 2 2 0 1 2 2]\n",
      "Train Score :  0.9523809523809523\n",
      "Test Score :  0.9333333333333333\n",
      "precision: 0.943859649122807\n",
      "recall: 0.9333333333333333\n",
      "---------------------------------------------------------------------------\n"
     ]
    }
   ],
   "source": [
    "for i in range(1,len(X[0]) + 1):\n",
    "    pca = PCA(n_components=i)\n",
    "    pcaTr = pca.fit(X)\n",
    "    X_trf = pcaTr.transform(X)\n",
    "    X_train,X_test,y_train,y_test = train_test_split(X_trf,Y,test_size=0.30,random_state=53)\n",
    "    model.fit(X_train,y_train)\n",
    "    y_pred = model.predict(X_test)\n",
    "    print(\"NUMBER OF PCA : \",i)\n",
    "    print(\"Predicted : \",y_pred)\n",
    "    print(\"Actual    : \",y_test)\n",
    "    print(\"Train Score : \",model.score(X_train,y_train))\n",
    "    print(\"Test Score : \",model.score(X_test,y_test))\n",
    "    precision =  metrics.precision_score(y_test,y_pred, average=\"weighted\",zero_division=0)\n",
    "    recall = metrics.recall_score(y_test, y_pred, average=\"weighted\",zero_division=0)\n",
    "    print('precision: {}'.format(precision))\n",
    "    print('recall: {}'.format(recall))\n",
    "    print('---------------------------------------------------------------------------')"
   ]
  },
  {
   "cell_type": "markdown",
   "id": "a651d7c3",
   "metadata": {},
   "source": [
    "## Observation ##\n",
    "#### 1) Number of principle component : 1  Accuracy : 0.91 ####\n",
    "#### 2) Number of principle component : 2  Accuracy : 0.86 ###\n",
    "#### 3) Number of principle component : 3  Accuracy : 0.88 ###\n",
    "#### Without reducing dimension                 Accuracy : 0.93 ####\n",
    "### We are getting almost same score after reducing dimension.So instead of using 4 feature we can also use 1 feature for prediction. This help model to train faster and visualization is possible for humans. ###"
   ]
  },
  {
   "cell_type": "markdown",
   "id": "4ff32e90",
   "metadata": {},
   "source": [
    "## 3. Run PCA + Naive Bayes classifier on IRIS dataset and calculateprecision and recall of the system. ##"
   ]
  },
  {
   "cell_type": "code",
   "execution_count": 12,
   "id": "88a68b8d",
   "metadata": {},
   "outputs": [
    {
     "data": {
      "text/plain": [
       "GaussianNB()"
      ]
     },
     "execution_count": 12,
     "metadata": {},
     "output_type": "execute_result"
    }
   ],
   "source": [
    "pca = PCA(n_components=2)\n",
    "pcaTr = pca.fit(X)\n",
    "X_trf = pcaTr.transform(X)\n",
    "X_train,X_test,y_train,y_test = train_test_split(X_trf,Y,test_size=0.30,random_state=53)\n",
    "model.fit(X_train,y_train)"
   ]
  },
  {
   "cell_type": "code",
   "execution_count": 13,
   "id": "160b4e7f",
   "metadata": {},
   "outputs": [
    {
     "name": "stdout",
     "output_type": "stream",
     "text": [
      "Predicted :  [0 0 2 1 2 2 2 0 1 2 0 1 2 0 2 1 1 1 2 0 1 2 1 0 1 0 0 1 1 0 2 1 1 2 2 2 1\n",
      " 2 1 2 2 0 1 2 2]\n",
      "Actual    :  [0 0 2 1 1 2 2 0 1 2 0 1 1 0 2 1 1 2 2 0 1 2 1 0 1 0 0 1 2 0 2 1 1 1 2 2 1\n",
      " 1 1 2 2 0 1 2 2]\n",
      "Train Score :  0.9333333333333333\n",
      "Test Score :  0.8666666666666667\n",
      "precision: 0.8709876543209876\n",
      "recall: 0.8666666666666667\n"
     ]
    }
   ],
   "source": [
    "y_pred = model.predict(X_test)\n",
    "print(\"Predicted : \",y_pred)\n",
    "print(\"Actual    : \",y_test)\n",
    "print(\"Train Score : \",model.score(X_train,y_train))\n",
    "print(\"Test Score : \",model.score(X_test,y_test))\n",
    "precision =  metrics.precision_score(y_test,y_pred, average=\"weighted\",zero_division=0)\n",
    "recall = metrics.recall_score(y_test, y_pred, average=\"weighted\",zero_division=0)\n",
    "print('precision: {}'.format(precision))\n",
    "print('recall: {}'.format(recall))"
   ]
  }
 ],
 "metadata": {
  "kernelspec": {
   "display_name": "Python 3 (ipykernel)",
   "language": "python",
   "name": "python3"
  },
  "language_info": {
   "codemirror_mode": {
    "name": "ipython",
    "version": 3
   },
   "file_extension": ".py",
   "mimetype": "text/x-python",
   "name": "python",
   "nbconvert_exporter": "python",
   "pygments_lexer": "ipython3",
   "version": "3.10.1"
  }
 },
 "nbformat": 4,
 "nbformat_minor": 5
}
