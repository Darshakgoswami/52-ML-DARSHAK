{
 "cells": [
  {
   "cell_type": "markdown",
   "id": "2b32a4ea",
   "metadata": {},
   "source": [
    "# Logistic Regression from scratch #"
   ]
  },
  {
   "cell_type": "code",
   "execution_count": 1,
   "id": "fbd3601e",
   "metadata": {},
   "outputs": [],
   "source": [
    "import numpy as np\n",
    "import pandas as pd\n",
    "import matplotlib.pyplot as plt\n",
    "from sklearn.model_selection import train_test_split\n",
    "from sklearn.preprocessing import StandardScaler\n",
    "\n",
    "from sklearn.metrics import accuracy_score"
   ]
  },
  {
   "cell_type": "code",
   "execution_count": 2,
   "id": "aa907976",
   "metadata": {},
   "outputs": [
    {
     "data": {
      "text/html": [
       "<div>\n",
       "<style scoped>\n",
       "    .dataframe tbody tr th:only-of-type {\n",
       "        vertical-align: middle;\n",
       "    }\n",
       "\n",
       "    .dataframe tbody tr th {\n",
       "        vertical-align: top;\n",
       "    }\n",
       "\n",
       "    .dataframe thead th {\n",
       "        text-align: right;\n",
       "    }\n",
       "</style>\n",
       "<table border=\"1\" class=\"dataframe\">\n",
       "  <thead>\n",
       "    <tr style=\"text-align: right;\">\n",
       "      <th></th>\n",
       "      <th>Age</th>\n",
       "      <th>EstimatedSalary</th>\n",
       "      <th>Purchased</th>\n",
       "    </tr>\n",
       "  </thead>\n",
       "  <tbody>\n",
       "    <tr>\n",
       "      <th>0</th>\n",
       "      <td>19</td>\n",
       "      <td>19000</td>\n",
       "      <td>0</td>\n",
       "    </tr>\n",
       "    <tr>\n",
       "      <th>1</th>\n",
       "      <td>35</td>\n",
       "      <td>20000</td>\n",
       "      <td>0</td>\n",
       "    </tr>\n",
       "    <tr>\n",
       "      <th>2</th>\n",
       "      <td>26</td>\n",
       "      <td>43000</td>\n",
       "      <td>0</td>\n",
       "    </tr>\n",
       "    <tr>\n",
       "      <th>3</th>\n",
       "      <td>27</td>\n",
       "      <td>57000</td>\n",
       "      <td>0</td>\n",
       "    </tr>\n",
       "    <tr>\n",
       "      <th>4</th>\n",
       "      <td>19</td>\n",
       "      <td>76000</td>\n",
       "      <td>0</td>\n",
       "    </tr>\n",
       "  </tbody>\n",
       "</table>\n",
       "</div>"
      ],
      "text/plain": [
       "   Age  EstimatedSalary  Purchased\n",
       "0   19            19000          0\n",
       "1   35            20000          0\n",
       "2   26            43000          0\n",
       "3   27            57000          0\n",
       "4   19            76000          0"
      ]
     },
     "execution_count": 2,
     "metadata": {},
     "output_type": "execute_result"
    }
   ],
   "source": [
    "dataset = pd.read_csv('BuyComputer.csv')\n",
    "dataset.drop(columns=['User ID',],axis=1,inplace=True)\n",
    "dataset.head()"
   ]
  },
  {
   "cell_type": "code",
   "execution_count": 3,
   "id": "4320ae3c",
   "metadata": {},
   "outputs": [
    {
     "name": "stdout",
     "output_type": "stream",
     "text": [
      "     Age  EstimatedSalary\n",
      "0     19            19000\n",
      "1     35            20000\n",
      "2     26            43000\n",
      "3     27            57000\n",
      "4     19            76000\n",
      "..   ...              ...\n",
      "395   46            41000\n",
      "396   51            23000\n",
      "397   50            20000\n",
      "398   36            33000\n",
      "399   49            36000\n",
      "\n",
      "[400 rows x 2 columns]\n",
      "0      0\n",
      "1      0\n",
      "2      0\n",
      "3      0\n",
      "4      0\n",
      "      ..\n",
      "395    1\n",
      "396    1\n",
      "397    1\n",
      "398    0\n",
      "399    1\n",
      "Name: Purchased, Length: 400, dtype: int64\n"
     ]
    }
   ],
   "source": [
    "X = dataset.iloc[:,:-1]\n",
    "Y = dataset.loc[:,'Purchased']\n",
    "print(X)\n",
    "print(Y)"
   ]
  },
  {
   "cell_type": "code",
   "execution_count": 4,
   "id": "1016661b",
   "metadata": {},
   "outputs": [
    {
     "name": "stdout",
     "output_type": "stream",
     "text": [
      "Training data:  (300, 2)\n",
      "Testing data:  (100, 2)\n"
     ]
    }
   ],
   "source": [
    "X_train,X_test,y_train,y_test = train_test_split(X,Y,random_state=53)\n",
    "print(\"Training data: \", X_train.shape)\n",
    "print(\"Testing data: \", X_test.shape)"
   ]
  },
  {
   "cell_type": "code",
   "execution_count": 5,
   "id": "a77aef77",
   "metadata": {},
   "outputs": [],
   "source": [
    "# Scaling data\n",
    "from sklearn.preprocessing import StandardScaler\n",
    "sc = StandardScaler()\n",
    "X_train = sc.fit_transform(X_train)\n",
    "X_test = sc.fit_transform(X_test)"
   ]
  },
  {
   "cell_type": "code",
   "execution_count": 6,
   "id": "b0461eab",
   "metadata": {},
   "outputs": [],
   "source": [
    "no_of_rows = X_train.shape[0]\n",
    "no_of_columns = X_train.shape[1]\n",
    "\n",
    "w = np.zeros(X_train.shape[1])\n",
    "b = 0\n",
    "iteration = 3000\n",
    "learning_rate = 0.1"
   ]
  },
  {
   "cell_type": "code",
   "execution_count": 7,
   "id": "d257e02d",
   "metadata": {},
   "outputs": [],
   "source": [
    "# Sigmoid function\n",
    "def sigmoid(z):\n",
    "    return 1/(1 + np.exp(-z))"
   ]
  },
  {
   "cell_type": "code",
   "execution_count": 8,
   "id": "94d27aa6",
   "metadata": {},
   "outputs": [],
   "source": [
    "def predict(data):\n",
    "    z = np.dot(data, w) + b\n",
    "    y = sigmoid(z)\n",
    "    for i in range(len(y)):\n",
    "        if(y[i] >= 0.5):\n",
    "            y[i] = 1\n",
    "        else:\n",
    "            y[i] = 0\n",
    "    return y"
   ]
  },
  {
   "cell_type": "code",
   "execution_count": 9,
   "id": "c34bc2ce",
   "metadata": {},
   "outputs": [],
   "source": [
    "# Loss function\n",
    "def loss(y, y_hat):\n",
    "    loss = np.sum(-y * np.log(y_hat) - (1-y)*np.log(1-y_hat))\n",
    "    loss = loss / no_of_rows\n",
    "    return loss"
   ]
  },
  {
   "cell_type": "code",
   "execution_count": 10,
   "id": "da960bdc",
   "metadata": {},
   "outputs": [],
   "source": [
    "for i in range(iteration):\n",
    "    y_predicated = sigmoid( (np.dot(w,X_train.T) + b) );\n",
    "    cost = loss(y_train, y_predicated);\n",
    "    wd = np.dot((y_predicated - y_train).T, X_train) / no_of_rows\n",
    "    bd = np.mean(y_predicated - y_train)\n",
    "    w = w - learning_rate * wd\n",
    "    b = b - learning_rate * bd\n",
    "    #print(\"Round:\",i,\"Weight:\",w,\"Bias:\",b)"
   ]
  },
  {
   "cell_type": "code",
   "execution_count": 11,
   "id": "8b9897ee",
   "metadata": {},
   "outputs": [
    {
     "name": "stdout",
     "output_type": "stream",
     "text": [
      "Weight :  [2.56230651 1.08046423]\n",
      "Bias :  -1.4671580353706597\n",
      "\n",
      "y_test predictions :  0.0  ->  y_test actual :  0\n",
      "y_test predictions :  0.0  ->  y_test actual :  0\n",
      "y_test predictions :  0.0  ->  y_test actual :  0\n",
      "y_test predictions :  0.0  ->  y_test actual :  0\n",
      "y_test predictions :  0.0  ->  y_test actual :  0\n",
      "y_test predictions :  0.0  ->  y_test actual :  0\n",
      "y_test predictions :  0.0  ->  y_test actual :  0\n",
      "y_test predictions :  1.0  ->  y_test actual :  1\n",
      "y_test predictions :  0.0  ->  y_test actual :  1\n",
      "y_test predictions :  0.0  ->  y_test actual :  1\n",
      "y_test predictions :  1.0  ->  y_test actual :  1\n",
      "y_test predictions :  0.0  ->  y_test actual :  0\n",
      "y_test predictions :  0.0  ->  y_test actual :  1\n",
      "y_test predictions :  1.0  ->  y_test actual :  1\n",
      "y_test predictions :  0.0  ->  y_test actual :  0\n",
      "y_test predictions :  1.0  ->  y_test actual :  1\n",
      "y_test predictions :  0.0  ->  y_test actual :  0\n",
      "y_test predictions :  0.0  ->  y_test actual :  0\n",
      "y_test predictions :  0.0  ->  y_test actual :  1\n",
      "y_test predictions :  0.0  ->  y_test actual :  0\n",
      "y_test predictions :  0.0  ->  y_test actual :  0\n",
      "y_test predictions :  0.0  ->  y_test actual :  0\n",
      "y_test predictions :  1.0  ->  y_test actual :  1\n",
      "y_test predictions :  0.0  ->  y_test actual :  1\n",
      "y_test predictions :  1.0  ->  y_test actual :  1\n",
      "y_test predictions :  0.0  ->  y_test actual :  0\n",
      "y_test predictions :  0.0  ->  y_test actual :  0\n",
      "y_test predictions :  0.0  ->  y_test actual :  1\n",
      "y_test predictions :  1.0  ->  y_test actual :  1\n",
      "y_test predictions :  0.0  ->  y_test actual :  1\n",
      "y_test predictions :  1.0  ->  y_test actual :  1\n",
      "y_test predictions :  1.0  ->  y_test actual :  1\n",
      "y_test predictions :  0.0  ->  y_test actual :  1\n",
      "y_test predictions :  0.0  ->  y_test actual :  0\n",
      "y_test predictions :  0.0  ->  y_test actual :  0\n",
      "y_test predictions :  1.0  ->  y_test actual :  1\n",
      "y_test predictions :  0.0  ->  y_test actual :  0\n",
      "y_test predictions :  0.0  ->  y_test actual :  0\n",
      "y_test predictions :  0.0  ->  y_test actual :  0\n",
      "y_test predictions :  0.0  ->  y_test actual :  0\n",
      "y_test predictions :  0.0  ->  y_test actual :  1\n",
      "y_test predictions :  1.0  ->  y_test actual :  0\n",
      "y_test predictions :  0.0  ->  y_test actual :  0\n",
      "y_test predictions :  1.0  ->  y_test actual :  1\n",
      "y_test predictions :  0.0  ->  y_test actual :  0\n",
      "y_test predictions :  0.0  ->  y_test actual :  0\n",
      "y_test predictions :  0.0  ->  y_test actual :  0\n",
      "y_test predictions :  0.0  ->  y_test actual :  0\n",
      "y_test predictions :  0.0  ->  y_test actual :  0\n",
      "y_test predictions :  0.0  ->  y_test actual :  0\n",
      "y_test predictions :  1.0  ->  y_test actual :  1\n",
      "y_test predictions :  0.0  ->  y_test actual :  0\n",
      "y_test predictions :  0.0  ->  y_test actual :  1\n",
      "y_test predictions :  0.0  ->  y_test actual :  1\n",
      "y_test predictions :  1.0  ->  y_test actual :  1\n",
      "y_test predictions :  0.0  ->  y_test actual :  0\n",
      "y_test predictions :  1.0  ->  y_test actual :  1\n",
      "y_test predictions :  0.0  ->  y_test actual :  0\n",
      "y_test predictions :  0.0  ->  y_test actual :  1\n",
      "y_test predictions :  0.0  ->  y_test actual :  1\n",
      "y_test predictions :  0.0  ->  y_test actual :  0\n",
      "y_test predictions :  0.0  ->  y_test actual :  0\n",
      "y_test predictions :  0.0  ->  y_test actual :  0\n",
      "y_test predictions :  0.0  ->  y_test actual :  1\n",
      "y_test predictions :  0.0  ->  y_test actual :  0\n",
      "y_test predictions :  1.0  ->  y_test actual :  1\n",
      "y_test predictions :  1.0  ->  y_test actual :  1\n",
      "y_test predictions :  0.0  ->  y_test actual :  1\n",
      "y_test predictions :  0.0  ->  y_test actual :  0\n",
      "y_test predictions :  1.0  ->  y_test actual :  1\n",
      "y_test predictions :  1.0  ->  y_test actual :  1\n",
      "y_test predictions :  0.0  ->  y_test actual :  0\n",
      "y_test predictions :  0.0  ->  y_test actual :  0\n",
      "y_test predictions :  0.0  ->  y_test actual :  1\n",
      "y_test predictions :  0.0  ->  y_test actual :  0\n",
      "y_test predictions :  1.0  ->  y_test actual :  1\n",
      "y_test predictions :  0.0  ->  y_test actual :  1\n",
      "y_test predictions :  1.0  ->  y_test actual :  0\n",
      "y_test predictions :  0.0  ->  y_test actual :  1\n",
      "y_test predictions :  0.0  ->  y_test actual :  1\n",
      "y_test predictions :  0.0  ->  y_test actual :  0\n",
      "y_test predictions :  0.0  ->  y_test actual :  0\n",
      "y_test predictions :  0.0  ->  y_test actual :  0\n",
      "y_test predictions :  0.0  ->  y_test actual :  0\n",
      "y_test predictions :  1.0  ->  y_test actual :  1\n",
      "y_test predictions :  0.0  ->  y_test actual :  0\n",
      "y_test predictions :  0.0  ->  y_test actual :  0\n",
      "y_test predictions :  0.0  ->  y_test actual :  0\n",
      "y_test predictions :  1.0  ->  y_test actual :  1\n",
      "y_test predictions :  0.0  ->  y_test actual :  0\n",
      "y_test predictions :  1.0  ->  y_test actual :  1\n",
      "y_test predictions :  0.0  ->  y_test actual :  0\n",
      "y_test predictions :  1.0  ->  y_test actual :  1\n",
      "y_test predictions :  0.0  ->  y_test actual :  1\n",
      "y_test predictions :  0.0  ->  y_test actual :  0\n",
      "y_test predictions :  0.0  ->  y_test actual :  0\n",
      "y_test predictions :  0.0  ->  y_test actual :  0\n",
      "y_test predictions :  0.0  ->  y_test actual :  0\n",
      "y_test predictions :  0.0  ->  y_test actual :  0\n",
      "y_test predictions :  1.0  ->  y_test actual :  1\n"
     ]
    }
   ],
   "source": [
    "print(\"Weight : \",w)\n",
    "print(\"Bias : \" ,b)\n",
    "\n",
    "y_test_pred = predict( X_test )\n",
    "print()\n",
    "ind = 0\n",
    "for i in y_test:\n",
    "    print(\"y_test predictions : \", y_test_pred[ind], end = \"  ->  \")\n",
    "    print(\"y_test actual : \",i)\n",
    "    ind += 1"
   ]
  },
  {
   "cell_type": "code",
   "execution_count": 12,
   "id": "2506bafb",
   "metadata": {},
   "outputs": [
    {
     "name": "stdout",
     "output_type": "stream",
     "text": [
      "Accuracy score :  0.78\n"
     ]
    }
   ],
   "source": [
    "print(\"Accuracy score : \",accuracy_score(y_test_pred,y_test))"
   ]
  },
  {
   "cell_type": "markdown",
   "id": "348cffde",
   "metadata": {},
   "source": [
    "# Logistic Regression of Sklearn #"
   ]
  },
  {
   "cell_type": "code",
   "execution_count": 13,
   "id": "947e08c9",
   "metadata": {},
   "outputs": [
    {
     "name": "stdout",
     "output_type": "stream",
     "text": [
      "Accuracy score :  0.78\n"
     ]
    }
   ],
   "source": [
    "from sklearn.linear_model import LogisticRegression\n",
    "model= LogisticRegression(random_state = 53)\n",
    "\n",
    "model.fit(X_train,y_train)\n",
    "\n",
    "pred = model.predict(X_test)\n",
    "print(\"Accuracy score : \",model.score(X_test,y_test))"
   ]
  }
 ],
 "metadata": {
  "kernelspec": {
   "display_name": "Python 3 (ipykernel)",
   "language": "python",
   "name": "python3"
  },
  "language_info": {
   "codemirror_mode": {
    "name": "ipython",
    "version": 3
   },
   "file_extension": ".py",
   "mimetype": "text/x-python",
   "name": "python",
   "nbconvert_exporter": "python",
   "pygments_lexer": "ipython3",
   "version": "3.10.1"
  }
 },
 "nbformat": 4,
 "nbformat_minor": 5
}
