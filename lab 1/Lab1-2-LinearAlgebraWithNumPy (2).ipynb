{
 "cells": [
  {
   "cell_type": "code",
   "execution_count": 33,
   "id": "724af392",
   "metadata": {},
   "outputs": [],
   "source": [
    "import numpy\n",
    "import random\n",
    "import pandas\n",
    "data=pandas.read_csv('./Iris.csv')"
   ]
  },
  {
   "cell_type": "code",
   "execution_count": null,
   "id": "13d38d9b",
   "metadata": {},
   "outputs": [],
   "source": [
    "Q-1 Create a Numpy array of size 4 x 5."
   ]
  },
  {
   "cell_type": "code",
   "execution_count": 27,
   "id": "01d86fee",
   "metadata": {},
   "outputs": [
    {
     "name": "stdout",
     "output_type": "stream",
     "text": [
      "[[10 12 43 64 75]\n",
      " [10 12 43 64 75]\n",
      " [10 12 43 64 75]\n",
      " [10 12 43 64 75]]\n"
     ]
    }
   ],
   "source": [
    "nmparray = numpy.array([10, 12, 43, 64, 75])\n",
    "matrix4x5 = numpy.array([nmparray, nmparray, nmparray, nmparray])\n",
    "print(matrix4x5)"
   ]
  },
  {
   "cell_type": "code",
   "execution_count": null,
   "id": "1c4f4ac2",
   "metadata": {},
   "outputs": [],
   "source": [
    "Q-2 Randomly initialize the array."
   ]
  },
  {
   "cell_type": "code",
   "execution_count": 9,
   "id": "f0292b01",
   "metadata": {},
   "outputs": [
    {
     "name": "stdout",
     "output_type": "stream",
     "text": [
      "[[0.30911842 0.77414286 0.07961069 0.23948816]\n",
      " [0.52733213 0.79060711 0.63084163 0.960858  ]\n",
      " [0.83323335 0.74025863 0.97413659 0.77934169]]\n"
     ]
    }
   ],
   "source": [
    "array = numpy.random.rand(3, 4)\n",
    "print(array)"
   ]
  },
  {
   "cell_type": "code",
   "execution_count": null,
   "id": "6d545681",
   "metadata": {},
   "outputs": [],
   "source": [
    "Q-3 Get the Transpose of the Matrix that you created. Create a square matrix and find its determinant."
   ]
  },
  {
   "cell_type": "code",
   "execution_count": 17,
   "id": "1fd20287",
   "metadata": {},
   "outputs": [
    {
     "name": "stdout",
     "output_type": "stream",
     "text": [
      "Determinant of Matrix\n",
      "563\n",
      "Transpose of Matrix\n",
      "[[20 13]\n",
      " [ 9 34]]\n"
     ]
    }
   ],
   "source": [
    "nparray = numpy.array([[20, 9], [13, 34]])\n",
    "print(\"Determinant of Matrix\")\n",
    "det = numpy.linalg.det(nparray)\n",
    "print(int(det))\n",
    "print(\"Transpose of Matrix\")\n",
    "print(nparray.T)"
   ]
  },
  {
   "cell_type": "code",
   "execution_count": null,
   "id": "6e79a2f5",
   "metadata": {},
   "outputs": [],
   "source": [
    "Q-4 Create another matrix of size 5 x 4 and randomly initialize it."
   ]
  },
  {
   "cell_type": "code",
   "execution_count": 19,
   "id": "af0d6847",
   "metadata": {},
   "outputs": [
    {
     "name": "stdout",
     "output_type": "stream",
     "text": [
      "[[0.4941576  0.60275348 0.03119227 0.79472203]\n",
      " [0.96245708 0.32569347 0.4792826  0.5357047 ]\n",
      " [0.81089134 0.20530921 0.10089247 0.47369065]\n",
      " [0.00326972 0.23798522 0.808569   0.4528904 ]\n",
      " [0.30603145 0.47346192 0.87745409 0.79684401]]\n"
     ]
    }
   ],
   "source": [
    "array = numpy.random.rand(5, 4)\n",
    "print(array)"
   ]
  },
  {
   "cell_type": "code",
   "execution_count": null,
   "id": "ac5385be",
   "metadata": {},
   "outputs": [],
   "source": [
    "Q-5 Perform Matrix multiplication."
   ]
  },
  {
   "cell_type": "code",
   "execution_count": 20,
   "id": "1329f4c1",
   "metadata": {},
   "outputs": [
    {
     "name": "stdout",
     "output_type": "stream",
     "text": [
      "[[[[23 34]\n",
      "   [23 34]]\n",
      "\n",
      "  [[31 46]\n",
      "   [31 46]]]\n",
      "\n",
      "\n",
      " [[[23 34]\n",
      "   [23 34]]\n",
      "\n",
      "  [[31 46]\n",
      "   [31 46]]]]\n"
     ]
    }
   ],
   "source": [
    "narray1 = numpy.array([[1, 2],[3, 4]])\n",
    "narray2= numpy.array([[5, 6],[7, 8]])\n",
    "npmatrix1 = numpy.array([narray1, narray1])\n",
    "npmatrix2 = numpy.array([narray2, narray2])\n",
    "product = numpy.dot(npmatrix2, npmatrix1)\n",
    "print(product)"
   ]
  },
  {
   "cell_type": "code",
   "execution_count": null,
   "id": "6f99b6fa",
   "metadata": {},
   "outputs": [],
   "source": [
    "Q-6 Perform element wise matrix multiplication."
   ]
  },
  {
   "cell_type": "code",
   "execution_count": 22,
   "id": "3315f8fb",
   "metadata": {},
   "outputs": [
    {
     "name": "stdout",
     "output_type": "stream",
     "text": [
      "[[[ 5 12]\n",
      "  [21 32]]\n",
      "\n",
      " [[ 5 12]\n",
      "  [21 32]]]\n"
     ]
    }
   ],
   "source": [
    "narray1 = numpy.array([[1, 2],[3, 4]])\n",
    "narray2= numpy.array([[5, 6],[7, 8]])\n",
    "npmatrix1 = numpy.array([narray1, narray1])\n",
    "npmatrix2 = numpy.array([narray2, narray2])\n",
    "product = numpy.multiply(npmatrix2, npmatrix1)\n",
    "print(product)"
   ]
  },
  {
   "cell_type": "code",
   "execution_count": null,
   "id": "dd6555e8",
   "metadata": {},
   "outputs": [],
   "source": [
    "Q-7 Find mean, median of the numpy array created."
   ]
  },
  {
   "cell_type": "code",
   "execution_count": 23,
   "id": "12e96438",
   "metadata": {},
   "outputs": [
    {
     "name": "stdout",
     "output_type": "stream",
     "text": [
      "Mean of array 2.5\n",
      "Median of array 2.5\n"
     ]
    }
   ],
   "source": [
    "narray = numpy.array([[1, 2],[3, 4]])\n",
    "mean = numpy.mean(narray)\n",
    "median = numpy.median(narray)\n",
    "print(\"Mean of array\", mean)\n",
    "print(\"Median of array\", median)"
   ]
  },
  {
   "cell_type": "code",
   "execution_count": null,
   "id": "938d7a8e",
   "metadata": {},
   "outputs": [],
   "source": [
    "Q-8 Obtain each row in the second column of the first array."
   ]
  },
  {
   "cell_type": "code",
   "execution_count": 28,
   "id": "20706d80",
   "metadata": {},
   "outputs": [
    {
     "name": "stdout",
     "output_type": "stream",
     "text": [
      "[12 12 12 12]\n"
     ]
    }
   ],
   "source": [
    "print(matrix4x5[:,1])"
   ]
  },
  {
   "cell_type": "code",
   "execution_count": null,
   "id": "3de83cbe",
   "metadata": {},
   "outputs": [],
   "source": [
    "Q -9 Convert Numeric entries(columns) of Iris.csv to Mean Centered Version"
   ]
  },
  {
   "cell_type": "code",
   "execution_count": 34,
   "id": "0333ec5c",
   "metadata": {},
   "outputs": [
    {
     "name": "stderr",
     "output_type": "stream",
     "text": [
      "C:\\Users\\manan\\AppData\\Local\\Temp/ipykernel_10080/992960010.py:2: FutureWarning: Dropping of nuisance columns in DataFrame reductions (with 'numeric_only=None') is deprecated; in a future version this will raise TypeError.  Select only valid columns before calling the reduction.\n",
      "  datam.mean()\n"
     ]
    },
    {
     "data": {
      "text/plain": [
       "Id               75.500000\n",
       "SepalLengthCm     5.843333\n",
       "SepalWidthCm      3.054000\n",
       "PetalLengthCm     3.758667\n",
       "PetalWidthCm      1.198667\n",
       "dtype: float64"
      ]
     },
     "execution_count": 34,
     "metadata": {},
     "output_type": "execute_result"
    }
   ],
   "source": [
    "datam = data.iloc[:,:]\n",
    "datam.mean()"
   ]
  },
  {
   "cell_type": "code",
   "execution_count": null,
   "id": "65dfa7d5",
   "metadata": {},
   "outputs": [],
   "source": [
    "Q-10 Study about numpy array attributes and implement it on the first matrix."
   ]
  },
  {
   "cell_type": "code",
   "execution_count": 37,
   "id": "5f8b084d",
   "metadata": {},
   "outputs": [
    {
     "name": "stdout",
     "output_type": "stream",
     "text": [
      "(10, 2)\n"
     ]
    }
   ],
   "source": [
    "matrix4x5.shape\n",
    "brr = matrix4x5.shape\n",
    "print(brr)"
   ]
  }
 ],
 "metadata": {
  "kernelspec": {
   "display_name": "Python 3 (ipykernel)",
   "language": "python",
   "name": "python3"
  },
  "language_info": {
   "codemirror_mode": {
    "name": "ipython",
    "version": 3
   },
   "file_extension": ".py",
   "mimetype": "text/x-python",
   "name": "python",
   "nbconvert_exporter": "python",
   "pygments_lexer": "ipython3",
   "version": "3.9.9"
  }
 },
 "nbformat": 4,
 "nbformat_minor": 5
}
